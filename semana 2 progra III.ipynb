{
  "nbformat": 4,
  "nbformat_minor": 0,
  "metadata": {
    "colab": {
      "provenance": [],
      "authorship_tag": "ABX9TyN3h+gklAlelUPNiy0zi1tS",
      "include_colab_link": true
    },
    "kernelspec": {
      "name": "python3",
      "display_name": "Python 3"
    },
    "language_info": {
      "name": "python"
    }
  },
  "cells": [
    {
      "cell_type": "markdown",
      "metadata": {
        "id": "view-in-github",
        "colab_type": "text"
      },
      "source": [
        "<a href=\"https://colab.research.google.com/github/IsaacNolasco/Progra-III/blob/main/semana%202%20progra%20III.ipynb\" target=\"_parent\"><img src=\"https://colab.research.google.com/assets/colab-badge.svg\" alt=\"Open In Colab\"/></a>"
      ]
    },
    {
      "cell_type": "code",
      "execution_count": null,
      "metadata": {
        "id": "yciy-7emepd-",
        "colab": {
          "base_uri": "https://localhost:8080/"
        },
        "outputId": "ca4bf54b-9781-427f-ee72-ccc038df5cdb"
      },
      "outputs": [
        {
          "output_type": "stream",
          "name": "stdout",
          "text": [
            "Hola Mundo\n"
          ]
        }
      ],
      "source": [
        "print(\"Hola Mundo\")\n",
        "print(\"Bienvenidos chicos a Programacion Computacional III\")\n"
      ]
    },
    {
      "cell_type": "code",
      "source": [
        "nombre = \"Cristian Nolasco\"\n",
        "edad = 5\n",
        "print(nombre, edad)\n",
        "\n",
        "edad= \"cinco\"\n",
        "print(\"Tu edad: \", edad)"
      ],
      "metadata": {
        "colab": {
          "base_uri": "https://localhost:8080/"
        },
        "id": "MHLEg-aKgM0p",
        "outputId": "76450975-c4f3-4935-e1cd-0d405817d966"
      },
      "execution_count": null,
      "outputs": [
        {
          "output_type": "stream",
          "name": "stdout",
          "text": [
            "Cristian Nolasco 5\n",
            "Tu edad:  cinco\n"
          ]
        }
      ]
    },
    {
      "cell_type": "code",
      "source": [
        "num1 = 5\n",
        "num2 = 8.9\n",
        "resta = num1 + num2\n",
        "print(\"La suma es: \", suma)"
      ],
      "metadata": {
        "colab": {
          "base_uri": "https://localhost:8080/"
        },
        "id": "Ugk9darhhAg9",
        "outputId": "f8d0399c-83b8-4a0f-82b5-e047e28ca8e0"
      },
      "execution_count": null,
      "outputs": [
        {
          "output_type": "stream",
          "name": "stdout",
          "text": [
            "La suma es:  13.9\n"
          ]
        }
      ]
    },
    {
      "cell_type": "code",
      "source": [
        "num1 = float(input(\"Num1: \"))\n",
        "num2 = float(input(\"Num2: \"))\n",
        "suma = num1 + num2\n",
        "print(\"La suma es: \", suma)"
      ],
      "metadata": {
        "colab": {
          "base_uri": "https://localhost:8080/"
        },
        "id": "E1x3Kc-zimF7",
        "outputId": "b1e581bf-0a01-42b6-aa73-c17e42bf02ed"
      },
      "execution_count": null,
      "outputs": [
        {
          "output_type": "stream",
          "name": "stdout",
          "text": [
            "Num1: 7\n",
            "Num2: 3\n",
            "La suma es:  10.0\n"
          ]
        }
      ]
    },
    {
      "cell_type": "code",
      "source": [
        "#ENTERO\n",
        "num1 = 6\n",
        "print(num1, \"Esto es un numero entero\")\n",
        "print( str(num1) + \" Esto es un entero\"  )\n",
        "\n",
        "#DECIMAL\n",
        "num2 = 7.5\n",
        "print(num2, \"Esto es un numero decimal\")\n",
        "\n",
        "#BOOLEANO\n",
        "esMayor = True\n",
        "print(esMayor, \"Esto es un booleano\")\n",
        "\n",
        "#CADENA\n",
        "nombre = \"Luis Hernandez\"\n",
        "cadena = input(\"Dime una cadena: \")\n",
        "valor = int(input(\"Dime un valor: \"))\n",
        "print(nombre, \"Esto es una cadena\", cadena[:valor])\n",
        "\n",
        "print( nombre, \"Letra inicial\", nombre[0],  \"Un valor especifico\", nombre[5], \"rango\", nombre[0:4], \"Comenzar desde el final\", nombre[-1])\n",
        "print( nombre[5:len(nombre)], nombre[:4] )\n",
        "print(type(nombre))\n"
      ],
      "metadata": {
        "id": "0_z1TWRQYTQA"
      },
      "execution_count": null,
      "outputs": []
    },
    {
      "cell_type": "code",
      "source": [
        "#FECHAS\n",
        "from datetime import datetime, date, time\n",
        "fecha = datetime.now()\n",
        "print(fecha, fecha.date(), fecha.time())\n",
        "print(type(fecha))\n",
        "\n",
        "fechaPersonalizada = date(2025,8,1)\n",
        "print(fechaPersonalizada)\n",
        "\n",
        "fecha = \"2025-08-08\"\n",
        "fecha = datetime.strptime(fecha, \"%Y-%m-%d\")\n",
        "print(fecha)\n",
        "\n",
        "print( fecha.strftime(\"%d/%m/%Y\"), \"Regresamos a clases \" )\n",
        "\n",
        "fechaNac = input(\"Dime tu fecha de nacimiento en formato d-m-Y: \")\n",
        "fechaNac = datetime.strptime(fechaNac, \"%d-%m-%Y\")\n",
        "print(fechaNac)"
      ],
      "metadata": {
        "id": "6m_TymrKYWSY"
      },
      "execution_count": null,
      "outputs": []
    },
    {
      "cell_type": "code",
      "source": [
        "#Suma\n",
        "def suma(num1, num2):\n",
        "  return num1 + num2\n",
        ""
      ],
      "metadata": {
        "id": "h4bCbOmqYjEk"
      },
      "execution_count": null,
      "outputs": []
    },
    {
      "cell_type": "code",
      "source": [
        "print(\"La suma de 5 + 8 = \", suma(5,8))"
      ],
      "metadata": {
        "id": "tAcUJxCkYkTF"
      },
      "execution_count": null,
      "outputs": []
    },
    {
      "cell_type": "code",
      "source": [
        "num1 = float(input(\"Num1: \"))\n",
        "num2 = float(input(\"Num2: \"))\n",
        "respuesta = suma(num1, num2)\n",
        "print(\"La suma es: \", respuesta)\n",
        ""
      ],
      "metadata": {
        "id": "cM7tkY-KYkrU"
      },
      "execution_count": null,
      "outputs": []
    },
    {
      "cell_type": "code",
      "source": [
        "#Hacer un ejercicio en python haciendo uso de las funciones, que reste dos numeros introducidos por el usuario. TAREA.\n",
        "\n",
        "def restar(a, b):\n",
        "    return a - b\n",
        "\n",
        "numero1 = float(input(\"Ingresa el primer número: \"))\n",
        "numero2 = float(input(\"Ingresa el segundo número: \"))\n",
        "\n",
        "resultado = restar(numero1, numero2)\n",
        "print(\"El resultado de la resta es:\", resultado)\n"
      ],
      "metadata": {
        "colab": {
          "base_uri": "https://localhost:8080/"
        },
        "id": "nc1c2Hn0Y4pv",
        "outputId": "01eb544e-9cd9-4b2a-bfbe-7e84560a1959"
      },
      "execution_count": 3,
      "outputs": [
        {
          "output_type": "stream",
          "name": "stdout",
          "text": [
            "Ingresa el primer número: 100\n",
            "Ingresa el segundo número: 50\n",
            "El resultado de la resta es: 50.0\n"
          ]
        }
      ]
    },
    {
      "cell_type": "code",
      "source": [
        "#Hacer un ejercicio en python haciendo uso de las funciones de usuario, que conviertaa grados Celcius a Farenheit.\n",
        "\n",
        "def celsius_a_fahrenheit(celsius):\n",
        "    fahrenheit = (celsius * 9/5) + 32\n",
        "    return fahrenheit\n",
        "\n",
        "c = float(input(\"Ingresa la temperatura en grados Celsius: \"))\n",
        "\n",
        "f = celsius_a_fahrenheit(c)\n",
        "print(f\"{c}°C equivalen a {f}°F\")\n"
      ],
      "metadata": {
        "colab": {
          "base_uri": "https://localhost:8080/"
        },
        "id": "kGE2Q8LOZESn",
        "outputId": "70b9efdc-2cd8-4748-97ec-0d2012de1668"
      },
      "execution_count": 4,
      "outputs": [
        {
          "output_type": "stream",
          "name": "stdout",
          "text": [
            "Ingresa la temperatura en grados Celsius: 38\n",
            "38.0°C equivalen a 100.4°F\n"
          ]
        }
      ]
    },
    {
      "cell_type": "code",
      "source": [
        "#Hacer un ejercicio en python haciendo uso de las funciones de usuario, que conviertaa grados Farenheit a Celcius.\n",
        "def fahrenheit_a_celsius(fahrenheit):\n",
        "    celsius = (fahrenheit - 32) * 5/9\n",
        "    return celsius\n",
        "\n",
        "f = float(input(\"Ingresa la temperatura en grados Fahrenheit: \"))\n",
        "\n",
        "c = fahrenheit_a_celsius(f)\n",
        "print(f\"{f}°F equivalen a {c:.2f}°C\")"
      ],
      "metadata": {
        "colab": {
          "base_uri": "https://localhost:8080/"
        },
        "id": "7cKHGicOcWvM",
        "outputId": "ecb4ae38-723e-4b2e-b7da-513079c01325"
      },
      "execution_count": 7,
      "outputs": [
        {
          "output_type": "stream",
          "name": "stdout",
          "text": [
            "Ingresa la temperatura en grados Fahrenheit: 100.4\n",
            "100.4°F equivalen a 38.00°C\n"
          ]
        }
      ]
    },
    {
      "cell_type": "code",
      "source": [
        "#Hacer un ejercicio en python haciendo uso de las funciones de usuario, que conviertaa grados Celcius a Kelvin.\n",
        "def celsius_a_kelvin(celsius):\n",
        "    kelvin = celsius + 273.15\n",
        "    return kelvin\n",
        "\n",
        "c = float(input(\"Ingresa la temperatura en grados Celsius: \"))\n",
        "\n",
        "k = celsius_a_kelvin(c)\n",
        "print(f\"{c} °C equivale a {k} K\")"
      ],
      "metadata": {
        "colab": {
          "base_uri": "https://localhost:8080/"
        },
        "id": "arlni2mshzZj",
        "outputId": "aa327cc6-872c-433d-be51-f9a64c810d63"
      },
      "execution_count": 9,
      "outputs": [
        {
          "output_type": "stream",
          "name": "stdout",
          "text": [
            "Ingresa la temperatura en grados Celsius: 1\n",
            "1.0 °C equivale a 274.15 K\n"
          ]
        }
      ]
    },
    {
      "cell_type": "code",
      "source": [
        "#Hacer un ejercicio en python haciendo uso de las funciones de usuario, que calcule el sueldo de un empleado , segun el numero de horas trabajadas y el valor por hora\n",
        "\n",
        "def calcular_sueldo(horas_por_dia):\n",
        "    valor_por_hora = 5\n",
        "    dias_por_mes = 30\n",
        "    sueldo = horas_por_dia * valor_por_hora * dias_por_mes\n",
        "    return sueldo\n",
        "\n",
        "horas = float(input(\"Ingresa el número de horas trabajadas por día: \"))\n",
        "\n",
        "sueldo_mensual = calcular_sueldo(horas)\n",
        "print(f\"El sueldo mensual del empleado es: ${sueldo_mensual:.2f}\")\n"
      ],
      "metadata": {
        "colab": {
          "base_uri": "https://localhost:8080/"
        },
        "id": "I-L7nQxYk5Fj",
        "outputId": "e67e6e24-2a7f-4c21-cb64-004331077550"
      },
      "execution_count": 11,
      "outputs": [
        {
          "output_type": "stream",
          "name": "stdout",
          "text": [
            "Ingresa el número de horas trabajadas por día: 8\n",
            "El sueldo mensual del empleado es: $1200.00\n"
          ]
        }
      ]
    },
    {
      "cell_type": "code",
      "source": [
        "#Hacer un ejercicio en python haciendo uso de las funciones de usuario, que permite elevar un numero a un exponente.\n",
        "\n",
        "def elevar_potencia(base, exponente):\n",
        "    resultado = base ** exponente\n",
        "    return resultado\n",
        "\n",
        "base = float(input(\"Ingresa la base: \"))\n",
        "exponente = float(input(\"Ingresa el exponente: \"))\n",
        "\n",
        "potencia = elevar_potencia(base, exponente)\n",
        "print(f\"{base} elevado a {exponente} es igual a: {potencia}\")\n"
      ],
      "metadata": {
        "colab": {
          "base_uri": "https://localhost:8080/"
        },
        "id": "3BYkJ0-smsuJ",
        "outputId": "287c8fed-83ca-4088-bf86-5c3268365931"
      },
      "execution_count": 16,
      "outputs": [
        {
          "output_type": "stream",
          "name": "stdout",
          "text": [
            "Ingresa la base: 8\n",
            "Ingresa el exponente: 3\n",
            "8.0 elevado a 3.0 es igual a: 512.0\n"
          ]
        }
      ]
    }
  ]
}